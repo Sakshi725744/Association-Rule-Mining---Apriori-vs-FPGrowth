{
  "nbformat": 4,
  "nbformat_minor": 0,
  "metadata": {
    "colab": {
      "name": "APRIORI_DMT_TRUMP_HILARY.ipynb",
      "provenance": [],
      "collapsed_sections": [],
      "toc_visible": true
    },
    "kernelspec": {
      "name": "python3",
      "display_name": "Python 3"
    }
  },
  "cells": [
    {
      "cell_type": "markdown",
      "metadata": {
        "id": "1fziHl7Ar94J"
      },
      "source": [
        "# Apriori"
      ]
    },
    {
      "cell_type": "markdown",
      "metadata": {
        "id": "eiNwni1xsEgT"
      },
      "source": [
        "## Importing the libraries"
      ]
    },
    {
      "cell_type": "code",
      "metadata": {
        "id": "XzhSQQr0Jtup",
        "colab": {
          "base_uri": "https://localhost:8080/",
          "height": 34
        },
        "outputId": "dbb423d4-998f-4de9-aef4-d8bb72dfd08e"
      },
      "source": [
        "import time\n",
        "start_t = time.time()\n",
        "!pip install apyori"
      ],
      "execution_count": null,
      "outputs": [
        {
          "output_type": "stream",
          "text": [
            "Requirement already satisfied: apyori in /usr/local/lib/python3.6/dist-packages (1.1.2)\n"
          ],
          "name": "stdout"
        }
      ]
    },
    {
      "cell_type": "code",
      "metadata": {
        "id": "4ycEvng7wZdu",
        "colab": {
          "base_uri": "https://localhost:8080/",
          "height": 52
        },
        "outputId": "9df93965-b4a0-4cc5-8f72-8b95cec3de97"
      },
      "source": [
        "pip install memory_profiler"
      ],
      "execution_count": null,
      "outputs": [
        {
          "output_type": "stream",
          "text": [
            "Requirement already satisfied: memory_profiler in /usr/local/lib/python3.6/dist-packages (0.58.0)\n",
            "Requirement already satisfied: psutil in /usr/local/lib/python3.6/dist-packages (from memory_profiler) (5.4.8)\n"
          ],
          "name": "stdout"
        }
      ]
    },
    {
      "cell_type": "code",
      "metadata": {
        "id": "9Muj5RkFxiwW",
        "colab": {
          "base_uri": "https://localhost:8080/",
          "height": 52
        },
        "outputId": "ade75c91-2e45-436d-f675-f3fa7562fe49"
      },
      "source": [
        "%load_ext memory_profiler"
      ],
      "execution_count": null,
      "outputs": [
        {
          "output_type": "stream",
          "text": [
            "The memory_profiler extension is already loaded. To reload it, use:\n",
            "  %reload_ext memory_profiler\n"
          ],
          "name": "stdout"
        }
      ]
    },
    {
      "cell_type": "code",
      "metadata": {
        "id": "UJfitBClsJlT"
      },
      "source": [
        "import numpy as np\n",
        "import matplotlib.pyplot as plt\n",
        "import pandas as pd\n",
        "from apyori import apriori\n",
        "import string\n",
        "import timeit"
      ],
      "execution_count": null,
      "outputs": []
    },
    {
      "cell_type": "markdown",
      "metadata": {
        "id": "Ql19kiQPPQbV"
      },
      "source": [
        "#Reading Data\n"
      ]
    },
    {
      "cell_type": "code",
      "metadata": {
        "id": "aIiQjEP3Pm4q",
        "colab": {
          "base_uri": "https://localhost:8080/",
          "height": 105
        },
        "outputId": "fc38ee9e-e2d0-44b3-c824-97e2684d017e"
      },
      "source": [
        "#handle, text, lang = en, retweet_count, favourite_count\n",
        "data = pd.read_csv(\"tweets.csv\")\n",
        "keep_columns = [\"handle\", \"text\", \"lang\"]\n",
        "\n",
        "# removing columns of data which we won't be dealing with and keeping only keep_columns\n",
        "remove_columns_list = list(set(data.columns)-set(keep_columns))\n",
        "data.drop(columns = remove_columns_list, inplace = True)\n",
        "\n",
        "# keeping rows which have tweets in english\n",
        "data = data[data.lang == \"en\"]\n",
        "data.drop(columns = [\"lang\"], inplace=True)\n",
        "data.to_csv(\"twitter.csv\")\n",
        "\n",
        "hillary = data[data.handle == \"HillaryClinton\"]\n",
        "hillary.drop(columns = [\"handle\"], inplace=True)\n",
        "hillary.to_csv(\"Hillary.csv\")\n",
        "\n",
        "trump = data[data.handle == \"realDonaldTrump\"]\n",
        "trump.drop(columns = [\"handle\"], inplace=True)\n",
        "trump.to_csv(\"Trump.csv\")\n",
        "\n",
        "pd.set_option('display.max_columns', None)\n",
        "\n"
      ],
      "execution_count": null,
      "outputs": [
        {
          "output_type": "stream",
          "text": [
            "/usr/local/lib/python3.6/dist-packages/pandas/core/frame.py:4169: SettingWithCopyWarning: \n",
            "A value is trying to be set on a copy of a slice from a DataFrame\n",
            "\n",
            "See the caveats in the documentation: https://pandas.pydata.org/pandas-docs/stable/user_guide/indexing.html#returning-a-view-versus-a-copy\n",
            "  errors=errors,\n"
          ],
          "name": "stderr"
        }
      ]
    },
    {
      "cell_type": "markdown",
      "metadata": {
        "id": "i_cMrl8fQ517"
      },
      "source": [
        "#Data Cleaning and Preprocessing"
      ]
    },
    {
      "cell_type": "code",
      "metadata": {
        "id": "0arVEj5eQ78C"
      },
      "source": [
        "# data cleaning\n",
        "clean_data = ['',\"will\",\"a\", \"about\", \"above\", \"after\", \"again\", \"against\", \"all\", \"am\", \"an\", \"and\", \"any\", \"are\", \"arent\", \"as\", \"at\", \"be\", \"because\", \"been\", \"before\", \"being\",\"below\", \"between\", \"both\", \"but\", \"by\",\"can\", \"cant\", \"cannot\", \"could\", \"couldnt\", \"did\",\"didn't\", \"do\", \"does\", \"doesnt\", \"doing\",\"dont\", \"down\", \"during\", \"each\", \"few\", \"for\", \"from\", \"further\", \"had\", \"hadnt\",\"has\", \"hasnt\", \"have\", \"havent\", \"having\",\"he\", \"hed\", \"hell\", \"hes\", \"her\",\"here\", \"heres\", \"hers\", \"herself\", \"him\", \"himself\", \"his\", \"how\", \"how's\", \"i\",\"id\", \"ill\", \"im\", \"ive\", \"if\",\"in\", \"into\", \"is\", \"isnt\", \"it\",\"its\", \"its\", \"itself\", \"lets\", \"me\",\"more\", \"most\", \"mustnt\", \"my\", \"myself\", \"no\", \"nor\", \"not\", \"of\", \"off\", \"on\", \"once\", \"only\", \"or\", \"other\", \"ought\", \"our\", \"ours\", \"ourselves\", \"out\", \"over\", \"own\", \"same\", \"shant\", \"she\", \"shed\", \"shell\", \"shes\", \"should\", \"shouldnt\", \"so\", \"some\", \"such\", \"than\", \"that\", \"thats\", \"the\", \"their\", \"theirs\", \"them\",\"themselves\", \"then\", \"there\", \"theres\", \"these\", \"they\", \"theyd\", \"theyll\", \"theyre\", \"theyve\", \"this\", \"those\", \"through\", \"to\", \"too\", \"under\", \"until\", \"up\", \"very\", \"was\",\"wasnt\", \"we\", \"wed\", \"well\", \"were\", \"weve\", \"were\", \"werent\", \"what\", \"whats\", \"when\", \"when's\", \"where\", \"wheres\", \"which\",\"while\", \"who\", \"whos\", \"whom\", \"why\",\"whys\", \"with\", \"wont\", \"would\", \"wouldnt\",\"you\", \"youd\", \"youll\", \"youre\", \"youve\", \"your\", \"yours\",\"yourself\", \"yourselves\"]\n",
        "punctuation = list(string.punctuation + \"”’â€™\")\n",
        "\n",
        "def clean(x):\n",
        "    # make lowercase\n",
        "    x = x.lower()\n",
        "\n",
        "    #x = x.replace(\"â€™\",\"\") if x.find(\"â€™\") else x\n",
        "    #x = x.replace(\"â†\",\"\") if x.find(\"â€™\") else x\n",
        "\n",
        "    # to remove punctuation\n",
        "    temp = ''\n",
        "    for i in x:\n",
        "        if i in punctuation or i.isnumeric():\n",
        "            continue\n",
        "        temp += i\n",
        "    x = temp\n",
        "\n",
        "    # remove links\n",
        "\n",
        "    if x.find(\"http\") != -1 :\n",
        "        pos = x.find(\"http\")\n",
        "        space_pos = x.find(\" \", pos)\n",
        "        x = x[:pos] #x[0:pos] + x[space_pos:] if space_pos != -1 else x[0:pos]\n",
        "\n",
        "    # removing common words\n",
        "\n",
        "    words = x.split(\" \")\n",
        "    temp = \"\"\n",
        "    for i in words:\n",
        "        if i not in clean_data:\n",
        "            temp += i+\" \"\n",
        "\n",
        "    x = temp.strip()\n",
        "    return x\n",
        "\n",
        "def preprocessing(Data):\n",
        "    transactions = []\n",
        "    for i,j in Data.iterrows():\n",
        "        str = j.text\n",
        "        str = clean(str)\n",
        "        Data.at[i,'text'] = str.split(\" \")\n",
        "        transactions.append(str.split(\" \"))\n",
        "    Data.drop(Data.columns[[0]], axis = 1, inplace = True)\n",
        "    Data.to_csv(\"trial.csv\")\n",
        "    return transactions\n",
        "\n",
        "data_hillary = pd.read_csv(\"Hillary.csv\")\n",
        "# data = data.head(50) # to reduce number of rows while testing\n",
        "transactions_h = preprocessing(data_hillary)\n",
        "\n",
        "data_trump = pd.read_csv(\"Trump.csv\")\n",
        "# data = data.head(50) # to reduce number of rows while testing\n",
        "transactions_t = preprocessing(data_trump)"
      ],
      "execution_count": null,
      "outputs": []
    },
    {
      "cell_type": "code",
      "metadata": {
        "id": "8zLQTCI0aOG4"
      },
      "source": [
        "def inspect(results):\n",
        "  lhs=[]\n",
        "  rhs=[]\n",
        "  support=[]\n",
        "  confidence=[]\n",
        "  lifts=[]\n",
        "\n",
        "  for i in results:\n",
        "    for j in i[2]:\n",
        "      lhs.append(tuple(j[0]))\n",
        "      rhs.append(tuple(j[1]))\n",
        "      support.append(i[1])\n",
        "      confidence.append(j[2])\n",
        "      lifts.append(j[3])\n",
        "  return list(zip(lhs,rhs,confidence,support,lifts))\n",
        "def apriori_func(transaction, min_sup, min_confi, min_lift): \n",
        "  pattern = apriori(transaction, min_support = min_sup, min_confidence = min_confi, min_lift = min_lift)\n",
        "  results = pd.DataFrame(inspect(list(pattern)), columns= ['Antecedant','Consequent','Confidence','Support','Lifts'])\n",
        "  return results\n",
        "\n",
        "\n",
        "    \n"
      ],
      "execution_count": null,
      "outputs": []
    },
    {
      "cell_type": "markdown",
      "metadata": {
        "id": "1wYZdBd5sea_"
      },
      "source": [
        "## Training the Apriori model for Hillary"
      ]
    },
    {
      "cell_type": "code",
      "metadata": {
        "id": "VRFLM2uZWK0q",
        "colab": {
          "base_uri": "https://localhost:8080/",
          "height": 34
        },
        "outputId": "2a7fc158-788c-471d-fafe-77586a24f913"
      },
      "source": [
        "%memit results_Hillary = apriori_func(transactions_h,0.005, 0.7, 1)\n"
      ],
      "execution_count": null,
      "outputs": [
        {
          "output_type": "stream",
          "text": [
            "peak memory: 235.59 MiB, increment: 13.51 MiB\n"
          ],
          "name": "stdout"
        }
      ]
    },
    {
      "cell_type": "markdown",
      "metadata": {
        "id": "p74uYbtIOk1J"
      },
      "source": [
        "## Training the Apriori model for Trump\n",
        "\n"
      ]
    },
    {
      "cell_type": "code",
      "metadata": {
        "id": "UHlEvugSOpCA",
        "colab": {
          "base_uri": "https://localhost:8080/",
          "height": 34
        },
        "outputId": "7469ca2f-5831-4a8b-f69e-0a589d892aef"
      },
      "source": [
        "%memit results_Trump = apriori_func(transactions_t,0.005, 0.7, 1)\n"
      ],
      "execution_count": null,
      "outputs": [
        {
          "output_type": "stream",
          "text": [
            "peak memory: 236.35 MiB, increment: 14.27 MiB\n"
          ],
          "name": "stdout"
        }
      ]
    },
    {
      "cell_type": "markdown",
      "metadata": {
        "id": "MFkQP-fcjDBC"
      },
      "source": [
        "### Function to put the results into a Pandas DataFrame"
      ]
    },
    {
      "cell_type": "code",
      "metadata": {
        "id": "LS9HGg6aRiA7"
      },
      "source": [
        "def inspect(results):\n",
        "  lhs=[]\n",
        "  rhs=[]\n",
        "  support=[]\n",
        "  confidence=[]\n",
        "  lifts=[]\n",
        "\n",
        "  for i in results:\n",
        "    for j in i[2]:\n",
        "      lhs.append(tuple(j[0]))\n",
        "      rhs.append(tuple(j[1]))\n",
        "      support.append(i[1])\n",
        "      confidence.append(j[2])\n",
        "      lifts.append(j[3])\n",
        "  return list(zip(lhs,rhs,confidence,support,lifts))\n"
      ],
      "execution_count": null,
      "outputs": []
    },
    {
      "cell_type": "markdown",
      "metadata": {
        "id": "iO6bF_dImT-E"
      },
      "source": [
        "### Displaying the first results coming directly from the output of the apriori function"
      ]
    },
    {
      "cell_type": "code",
      "metadata": {
        "id": "7Hjm29X8P7UK"
      },
      "source": [
        "\n",
        "results_Hillary.to_csv(\"Results - Hillary.csv\")"
      ],
      "execution_count": null,
      "outputs": []
    },
    {
      "cell_type": "code",
      "metadata": {
        "id": "f8W8OFxFQJck",
        "colab": {
          "base_uri": "https://localhost:8080/",
          "height": 647
        },
        "outputId": "aa6f65cc-e198-4608-dd4b-d11c8173e5bc"
      },
      "source": [
        "results_Hillary.nlargest(n=20,columns='Lifts')"
      ],
      "execution_count": null,
      "outputs": [
        {
          "output_type": "execute_result",
          "data": {
            "text/html": [
              "<div>\n",
              "<style scoped>\n",
              "    .dataframe tbody tr th:only-of-type {\n",
              "        vertical-align: middle;\n",
              "    }\n",
              "\n",
              "    .dataframe tbody tr th {\n",
              "        vertical-align: top;\n",
              "    }\n",
              "\n",
              "    .dataframe thead th {\n",
              "        text-align: right;\n",
              "    }\n",
              "</style>\n",
              "<table border=\"1\" class=\"dataframe\">\n",
              "  <thead>\n",
              "    <tr style=\"text-align: right;\">\n",
              "      <th></th>\n",
              "      <th>Antecedant</th>\n",
              "      <th>Consequent</th>\n",
              "      <th>Confidence</th>\n",
              "      <th>Support</th>\n",
              "      <th>Lifts</th>\n",
              "    </tr>\n",
              "  </thead>\n",
              "  <tbody>\n",
              "    <tr>\n",
              "      <th>7</th>\n",
              "      <td>(pence,)</td>\n",
              "      <td>(mike,)</td>\n",
              "      <td>0.739130</td>\n",
              "      <td>0.005454</td>\n",
              "      <td>115.193478</td>\n",
              "    </tr>\n",
              "    <tr>\n",
              "      <th>6</th>\n",
              "      <td>(mike,)</td>\n",
              "      <td>(pence,)</td>\n",
              "      <td>0.850000</td>\n",
              "      <td>0.005454</td>\n",
              "      <td>115.193478</td>\n",
              "    </tr>\n",
              "    <tr>\n",
              "      <th>3</th>\n",
              "      <td>(policy,)</td>\n",
              "      <td>(foreign,)</td>\n",
              "      <td>0.718750</td>\n",
              "      <td>0.007379</td>\n",
              "      <td>67.889205</td>\n",
              "    </tr>\n",
              "    <tr>\n",
              "      <th>1</th>\n",
              "      <td>(student,)</td>\n",
              "      <td>(debt,)</td>\n",
              "      <td>0.750000</td>\n",
              "      <td>0.005775</td>\n",
              "      <td>66.792857</td>\n",
              "    </tr>\n",
              "    <tr>\n",
              "      <th>24</th>\n",
              "      <td>(states, president)</td>\n",
              "      <td>(united,)</td>\n",
              "      <td>1.000000</td>\n",
              "      <td>0.008341</td>\n",
              "      <td>64.937500</td>\n",
              "    </tr>\n",
              "    <tr>\n",
              "      <th>25</th>\n",
              "      <td>(united, president)</td>\n",
              "      <td>(states,)</td>\n",
              "      <td>1.000000</td>\n",
              "      <td>0.008341</td>\n",
              "      <td>64.937500</td>\n",
              "    </tr>\n",
              "    <tr>\n",
              "      <th>11</th>\n",
              "      <td>(states,)</td>\n",
              "      <td>(united,)</td>\n",
              "      <td>0.854167</td>\n",
              "      <td>0.013154</td>\n",
              "      <td>55.467448</td>\n",
              "    </tr>\n",
              "    <tr>\n",
              "      <th>12</th>\n",
              "      <td>(united,)</td>\n",
              "      <td>(states,)</td>\n",
              "      <td>0.854167</td>\n",
              "      <td>0.013154</td>\n",
              "      <td>55.467448</td>\n",
              "    </tr>\n",
              "    <tr>\n",
              "      <th>9</th>\n",
              "      <td>(returns,)</td>\n",
              "      <td>(tax,)</td>\n",
              "      <td>0.954545</td>\n",
              "      <td>0.006737</td>\n",
              "      <td>42.504545</td>\n",
              "    </tr>\n",
              "    <tr>\n",
              "      <th>4</th>\n",
              "      <td>(night,)</td>\n",
              "      <td>(last,)</td>\n",
              "      <td>0.705882</td>\n",
              "      <td>0.007700</td>\n",
              "      <td>38.600619</td>\n",
              "    </tr>\n",
              "    <tr>\n",
              "      <th>8</th>\n",
              "      <td>(york,)</td>\n",
              "      <td>(new,)</td>\n",
              "      <td>1.000000</td>\n",
              "      <td>0.006416</td>\n",
              "      <td>35.420455</td>\n",
              "    </tr>\n",
              "    <tr>\n",
              "      <th>20</th>\n",
              "      <td>(plan, donald)</td>\n",
              "      <td>(trumps,)</td>\n",
              "      <td>0.818182</td>\n",
              "      <td>0.005775</td>\n",
              "      <td>13.422488</td>\n",
              "    </tr>\n",
              "    <tr>\n",
              "      <th>5</th>\n",
              "      <td>(sure,)</td>\n",
              "      <td>(make,)</td>\n",
              "      <td>0.724138</td>\n",
              "      <td>0.013474</td>\n",
              "      <td>12.824647</td>\n",
              "    </tr>\n",
              "    <tr>\n",
              "      <th>15</th>\n",
              "      <td>(clinton, president)</td>\n",
              "      <td>(hillary,)</td>\n",
              "      <td>0.928571</td>\n",
              "      <td>0.008341</td>\n",
              "      <td>8.588597</td>\n",
              "    </tr>\n",
              "    <tr>\n",
              "      <th>0</th>\n",
              "      <td>(clinton,)</td>\n",
              "      <td>(hillary,)</td>\n",
              "      <td>0.813084</td>\n",
              "      <td>0.027911</td>\n",
              "      <td>7.520425</td>\n",
              "    </tr>\n",
              "    <tr>\n",
              "      <th>21</th>\n",
              "      <td>(donald, president)</td>\n",
              "      <td>(trump,)</td>\n",
              "      <td>0.931818</td>\n",
              "      <td>0.013154</td>\n",
              "      <td>4.489146</td>\n",
              "    </tr>\n",
              "    <tr>\n",
              "      <th>13</th>\n",
              "      <td>(unfit,)</td>\n",
              "      <td>(trump,)</td>\n",
              "      <td>0.888889</td>\n",
              "      <td>0.005133</td>\n",
              "      <td>4.282329</td>\n",
              "    </tr>\n",
              "    <tr>\n",
              "      <th>18</th>\n",
              "      <td>(make, donald)</td>\n",
              "      <td>(trump,)</td>\n",
              "      <td>0.888889</td>\n",
              "      <td>0.005133</td>\n",
              "      <td>4.282329</td>\n",
              "    </tr>\n",
              "    <tr>\n",
              "      <th>22</th>\n",
              "      <td>(says, donald)</td>\n",
              "      <td>(trump,)</td>\n",
              "      <td>0.863636</td>\n",
              "      <td>0.006096</td>\n",
              "      <td>4.160672</td>\n",
              "    </tr>\n",
              "    <tr>\n",
              "      <th>19</th>\n",
              "      <td>(people, donald)</td>\n",
              "      <td>(trump,)</td>\n",
              "      <td>0.818182</td>\n",
              "      <td>0.005775</td>\n",
              "      <td>3.941689</td>\n",
              "    </tr>\n",
              "  </tbody>\n",
              "</table>\n",
              "</div>"
            ],
            "text/plain": [
              "              Antecedant  Consequent  Confidence   Support       Lifts\n",
              "7               (pence,)     (mike,)    0.739130  0.005454  115.193478\n",
              "6                (mike,)    (pence,)    0.850000  0.005454  115.193478\n",
              "3              (policy,)  (foreign,)    0.718750  0.007379   67.889205\n",
              "1             (student,)     (debt,)    0.750000  0.005775   66.792857\n",
              "24   (states, president)   (united,)    1.000000  0.008341   64.937500\n",
              "25   (united, president)   (states,)    1.000000  0.008341   64.937500\n",
              "11             (states,)   (united,)    0.854167  0.013154   55.467448\n",
              "12             (united,)   (states,)    0.854167  0.013154   55.467448\n",
              "9             (returns,)      (tax,)    0.954545  0.006737   42.504545\n",
              "4               (night,)     (last,)    0.705882  0.007700   38.600619\n",
              "8                (york,)      (new,)    1.000000  0.006416   35.420455\n",
              "20        (plan, donald)   (trumps,)    0.818182  0.005775   13.422488\n",
              "5                (sure,)     (make,)    0.724138  0.013474   12.824647\n",
              "15  (clinton, president)  (hillary,)    0.928571  0.008341    8.588597\n",
              "0             (clinton,)  (hillary,)    0.813084  0.027911    7.520425\n",
              "21   (donald, president)    (trump,)    0.931818  0.013154    4.489146\n",
              "13              (unfit,)    (trump,)    0.888889  0.005133    4.282329\n",
              "18        (make, donald)    (trump,)    0.888889  0.005133    4.282329\n",
              "22        (says, donald)    (trump,)    0.863636  0.006096    4.160672\n",
              "19      (people, donald)    (trump,)    0.818182  0.005775    3.941689"
            ]
          },
          "metadata": {
            "tags": []
          },
          "execution_count": 228
        }
      ]
    },
    {
      "cell_type": "markdown",
      "metadata": {
        "id": "Pfn-G1eAjjLz"
      },
      "source": [
        "### Displaying the results non sorted"
      ]
    },
    {
      "cell_type": "code",
      "metadata": {
        "id": "g-sqCQbWW8PS"
      },
      "source": [
        "\n",
        "results_Trump.to_csv(\"Results - Trump.csv\")\n"
      ],
      "execution_count": null,
      "outputs": []
    },
    {
      "cell_type": "code",
      "metadata": {
        "id": "Yp6LZa6aXBs7",
        "colab": {
          "base_uri": "https://localhost:8080/",
          "height": 647
        },
        "outputId": "4fb7b3ee-9ee7-4008-f2b9-c82d2ac9c15d"
      },
      "source": [
        "results_Trump.nlargest(n=20,columns='Lifts')\n"
      ],
      "execution_count": null,
      "outputs": [
        {
          "output_type": "execute_result",
          "data": {
            "text/html": [
              "<div>\n",
              "<style scoped>\n",
              "    .dataframe tbody tr th:only-of-type {\n",
              "        vertical-align: middle;\n",
              "    }\n",
              "\n",
              "    .dataframe tbody tr th {\n",
              "        vertical-align: top;\n",
              "    }\n",
              "\n",
              "    .dataframe thead th {\n",
              "        text-align: right;\n",
              "    }\n",
              "</style>\n",
              "<table border=\"1\" class=\"dataframe\">\n",
              "  <thead>\n",
              "    <tr style=\"text-align: right;\">\n",
              "      <th></th>\n",
              "      <th>Antecedant</th>\n",
              "      <th>Consequent</th>\n",
              "      <th>Confidence</th>\n",
              "      <th>Support</th>\n",
              "      <th>Lifts</th>\n",
              "    </tr>\n",
              "  </thead>\n",
              "  <tbody>\n",
              "    <tr>\n",
              "      <th>13</th>\n",
              "      <td>(elizabeth,)</td>\n",
              "      <td>(warren,)</td>\n",
              "      <td>0.958333</td>\n",
              "      <td>0.007346</td>\n",
              "      <td>130.458333</td>\n",
              "    </tr>\n",
              "    <tr>\n",
              "      <th>14</th>\n",
              "      <td>(warren,)</td>\n",
              "      <td>(elizabeth,)</td>\n",
              "      <td>1.000000</td>\n",
              "      <td>0.007346</td>\n",
              "      <td>130.458333</td>\n",
              "    </tr>\n",
              "    <tr>\n",
              "      <th>51</th>\n",
              "      <td>(elizabeth,)</td>\n",
              "      <td>(goofy, warren)</td>\n",
              "      <td>0.916667</td>\n",
              "      <td>0.007027</td>\n",
              "      <td>130.458333</td>\n",
              "    </tr>\n",
              "    <tr>\n",
              "      <th>56</th>\n",
              "      <td>(goofy, warren)</td>\n",
              "      <td>(elizabeth,)</td>\n",
              "      <td>1.000000</td>\n",
              "      <td>0.007027</td>\n",
              "      <td>130.458333</td>\n",
              "    </tr>\n",
              "    <tr>\n",
              "      <th>53</th>\n",
              "      <td>(warren,)</td>\n",
              "      <td>(elizabeth, goofy)</td>\n",
              "      <td>0.956522</td>\n",
              "      <td>0.007027</td>\n",
              "      <td>130.211720</td>\n",
              "    </tr>\n",
              "    <tr>\n",
              "      <th>54</th>\n",
              "      <td>(elizabeth, goofy)</td>\n",
              "      <td>(warren,)</td>\n",
              "      <td>0.956522</td>\n",
              "      <td>0.007027</td>\n",
              "      <td>130.211720</td>\n",
              "    </tr>\n",
              "    <tr>\n",
              "      <th>11</th>\n",
              "      <td>(elizabeth,)</td>\n",
              "      <td>(goofy,)</td>\n",
              "      <td>0.958333</td>\n",
              "      <td>0.007346</td>\n",
              "      <td>120.021667</td>\n",
              "    </tr>\n",
              "    <tr>\n",
              "      <th>12</th>\n",
              "      <td>(goofy,)</td>\n",
              "      <td>(elizabeth,)</td>\n",
              "      <td>0.920000</td>\n",
              "      <td>0.007346</td>\n",
              "      <td>120.021667</td>\n",
              "    </tr>\n",
              "    <tr>\n",
              "      <th>16</th>\n",
              "      <td>(goofy,)</td>\n",
              "      <td>(warren,)</td>\n",
              "      <td>0.880000</td>\n",
              "      <td>0.007027</td>\n",
              "      <td>119.794783</td>\n",
              "    </tr>\n",
              "    <tr>\n",
              "      <th>17</th>\n",
              "      <td>(warren,)</td>\n",
              "      <td>(goofy,)</td>\n",
              "      <td>0.956522</td>\n",
              "      <td>0.007027</td>\n",
              "      <td>119.794783</td>\n",
              "    </tr>\n",
              "    <tr>\n",
              "      <th>52</th>\n",
              "      <td>(goofy,)</td>\n",
              "      <td>(elizabeth, warren)</td>\n",
              "      <td>0.880000</td>\n",
              "      <td>0.007027</td>\n",
              "      <td>119.794783</td>\n",
              "    </tr>\n",
              "    <tr>\n",
              "      <th>55</th>\n",
              "      <td>(elizabeth, warren)</td>\n",
              "      <td>(goofy,)</td>\n",
              "      <td>0.956522</td>\n",
              "      <td>0.007027</td>\n",
              "      <td>119.794783</td>\n",
              "    </tr>\n",
              "    <tr>\n",
              "      <th>24</th>\n",
              "      <td>(mitt,)</td>\n",
              "      <td>(romney,)</td>\n",
              "      <td>0.842105</td>\n",
              "      <td>0.005110</td>\n",
              "      <td>105.465263</td>\n",
              "    </tr>\n",
              "    <tr>\n",
              "      <th>26</th>\n",
              "      <td>(rigged,)</td>\n",
              "      <td>(system,)</td>\n",
              "      <td>0.800000</td>\n",
              "      <td>0.006388</td>\n",
              "      <td>104.366667</td>\n",
              "    </tr>\n",
              "    <tr>\n",
              "      <th>27</th>\n",
              "      <td>(system,)</td>\n",
              "      <td>(rigged,)</td>\n",
              "      <td>0.833333</td>\n",
              "      <td>0.006388</td>\n",
              "      <td>104.366667</td>\n",
              "    </tr>\n",
              "    <tr>\n",
              "      <th>29</th>\n",
              "      <td>(united,)</td>\n",
              "      <td>(states,)</td>\n",
              "      <td>0.842105</td>\n",
              "      <td>0.005110</td>\n",
              "      <td>101.408907</td>\n",
              "    </tr>\n",
              "    <tr>\n",
              "      <th>41</th>\n",
              "      <td>(judgement,)</td>\n",
              "      <td>(hillary, bad)</td>\n",
              "      <td>0.708333</td>\n",
              "      <td>0.005430</td>\n",
              "      <td>69.305990</td>\n",
              "    </tr>\n",
              "    <tr>\n",
              "      <th>65</th>\n",
              "      <td>(lightweight, rubio)</td>\n",
              "      <td>(marco,)</td>\n",
              "      <td>0.842105</td>\n",
              "      <td>0.005110</td>\n",
              "      <td>64.308087</td>\n",
              "    </tr>\n",
              "    <tr>\n",
              "      <th>4</th>\n",
              "      <td>(north,)</td>\n",
              "      <td>(carolina,)</td>\n",
              "      <td>0.904762</td>\n",
              "      <td>0.006068</td>\n",
              "      <td>48.841544</td>\n",
              "    </tr>\n",
              "    <tr>\n",
              "      <th>5</th>\n",
              "      <td>(south,)</td>\n",
              "      <td>(carolina,)</td>\n",
              "      <td>0.869565</td>\n",
              "      <td>0.012775</td>\n",
              "      <td>46.941529</td>\n",
              "    </tr>\n",
              "  </tbody>\n",
              "</table>\n",
              "</div>"
            ],
            "text/plain": [
              "              Antecedant           Consequent  Confidence   Support  \\\n",
              "13          (elizabeth,)            (warren,)    0.958333  0.007346   \n",
              "14             (warren,)         (elizabeth,)    1.000000  0.007346   \n",
              "51          (elizabeth,)      (goofy, warren)    0.916667  0.007027   \n",
              "56       (goofy, warren)         (elizabeth,)    1.000000  0.007027   \n",
              "53             (warren,)   (elizabeth, goofy)    0.956522  0.007027   \n",
              "54    (elizabeth, goofy)            (warren,)    0.956522  0.007027   \n",
              "11          (elizabeth,)             (goofy,)    0.958333  0.007346   \n",
              "12              (goofy,)         (elizabeth,)    0.920000  0.007346   \n",
              "16              (goofy,)            (warren,)    0.880000  0.007027   \n",
              "17             (warren,)             (goofy,)    0.956522  0.007027   \n",
              "52              (goofy,)  (elizabeth, warren)    0.880000  0.007027   \n",
              "55   (elizabeth, warren)             (goofy,)    0.956522  0.007027   \n",
              "24               (mitt,)            (romney,)    0.842105  0.005110   \n",
              "26             (rigged,)            (system,)    0.800000  0.006388   \n",
              "27             (system,)            (rigged,)    0.833333  0.006388   \n",
              "29             (united,)            (states,)    0.842105  0.005110   \n",
              "41          (judgement,)       (hillary, bad)    0.708333  0.005430   \n",
              "65  (lightweight, rubio)             (marco,)    0.842105  0.005110   \n",
              "4               (north,)          (carolina,)    0.904762  0.006068   \n",
              "5               (south,)          (carolina,)    0.869565  0.012775   \n",
              "\n",
              "         Lifts  \n",
              "13  130.458333  \n",
              "14  130.458333  \n",
              "51  130.458333  \n",
              "56  130.458333  \n",
              "53  130.211720  \n",
              "54  130.211720  \n",
              "11  120.021667  \n",
              "12  120.021667  \n",
              "16  119.794783  \n",
              "17  119.794783  \n",
              "52  119.794783  \n",
              "55  119.794783  \n",
              "24  105.465263  \n",
              "26  104.366667  \n",
              "27  104.366667  \n",
              "29  101.408907  \n",
              "41   69.305990  \n",
              "65   64.308087  \n",
              "4    48.841544  \n",
              "5    46.941529  "
            ]
          },
          "metadata": {
            "tags": []
          },
          "execution_count": 230
        }
      ]
    },
    {
      "cell_type": "code",
      "metadata": {
        "id": "8bKOSMlVCyPd",
        "colab": {
          "base_uri": "https://localhost:8080/",
          "height": 70
        },
        "outputId": "cf37cd1d-0d2a-4e35-96bb-bf0bbe1f01f8"
      },
      "source": [
        "end_t = time.time()\n",
        "print(start_t)\n",
        "print(end_t)\n",
        "print(end_t - start_t)"
      ],
      "execution_count": null,
      "outputs": [
        {
          "output_type": "stream",
          "text": [
            "1603342592.6158528\n",
            "1603342601.0696192\n",
            "8.453766345977783\n"
          ],
          "name": "stdout"
        }
      ]
    }
  ]
}